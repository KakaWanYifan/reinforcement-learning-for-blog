{
 "cells": [
  {
   "cell_type": "code",
   "execution_count": 1,
   "metadata": {
    "collapsed": true,
    "pycharm": {
     "name": "#%%\n"
    }
   },
   "outputs": [
    {
     "name": "stdout",
     "output_type": "stream",
     "text": [
      "观察空间 = Tuple(Discrete(32), Discrete(11), Discrete(2))\n",
      "动作空间 = Discrete(2)\n",
      "动作数量 = 2\n"
     ]
    }
   ],
   "source": [
    "import gym\n",
    "import numpy as np\n",
    "np.random.seed(0)\n",
    "# 环境使用\n",
    "env = gym.make(\"Blackjack-v0\")\n",
    "env = env.unwrapped\n",
    "env.seed(0)\n",
    "print('观察空间 = {}'.format(env.observation_space))\n",
    "print('动作空间 = {}'.format(env.action_space))\n",
    "print('动作数量 = {}'.format(env.action_space.n))"
   ]
  },
  {
   "cell_type": "code",
   "execution_count": 2,
   "metadata": {
    "pycharm": {
     "name": "#%%\n"
    }
   },
   "outputs": [
    {
     "name": "stdout",
     "output_type": "stream",
     "text": [
      "观测 = (18, 1, False)\n",
      "玩家 = [10, 8], 庄家 = [1, 7]\n",
      "动作 = 0\n",
      "观测 = (18, 1, False), 奖励 = 0.0, 结束指示 = True\n",
      "奖励：0.0\n"
     ]
    }
   ],
   "source": [
    "def ob2state(observation):\n",
    "    # 分别是：玩家的点数，庄家的亮牌, 是否把A作为11\n",
    "    return observation[0], observation[1], int(observation[2])\n",
    "\n",
    "def play_once(env,policy):\n",
    "    total_reward = 0\n",
    "    observation = env.reset()\n",
    "    print('观测 = {}'.format(observation))\n",
    "    while True:\n",
    "        print('玩家 = {}, 庄家 = {}'.format(env.player, env.dealer))\n",
    "        # 状态\n",
    "        state = ob2state(observation)\n",
    "        action = np.random.choice(env.action_space.n, p=policy[state])\n",
    "        print('动作 = {}'.format(action))\n",
    "        observation, reward, done, _ = env.step(action)\n",
    "        print('观测 = {}, 奖励 = {}, 结束指示 = {}'.format(\n",
    "                observation, reward, done))\n",
    "        total_reward += reward\n",
    "        if done:\n",
    "            return total_reward # 回合结束\n",
    "\n",
    "policy = np.zeros((22, 11, 2, 2))\n",
    "# >= 18 时收手\n",
    "policy[18:, :, :, 0] = 1\n",
    "# < 18 时继续\n",
    "policy[:18, :, :, 1] = 1\n",
    "\n",
    "print(\"奖励：{}\".format(play_once(env,policy)))"
   ]
  },
  {
   "cell_type": "code",
   "execution_count": 3,
   "metadata": {
    "pycharm": {
     "name": "#%%\n"
    }
   },
   "outputs": [],
   "source": [
    "import matplotlib.pyplot as plt\n",
    "\n",
    "# def evaluate_action_monte_carlo(env, policy, episode_num=500000):\n",
    "#     q = np.zeros_like(policy)\n",
    "#     c = np.zeros_like(policy)\n",
    "#     for _ in range(episode_num):\n",
    "#         # 玩一回合\n",
    "#         state_actions = []\n",
    "#         observation = env.reset()\n",
    "#         while True:\n",
    "#             state = ob2state(observation)\n",
    "#             action = np.random.choice(env.action_space.n, p=policy[state])\n",
    "#             state_actions.append((state, action))\n",
    "#             observation, reward, done, _ = env.step(action)\n",
    "#             if done:\n",
    "#                 break # 回合结束\n",
    "#         g = reward # 回报\n",
    "#         for state, action in state_actions:\n",
    "#             c[state][action] += 1.\n",
    "#             q[state][action] += (g - q[state][action]) / c[state][action]\n",
    "#     return q\n",
    "#\n",
    "# q = evaluate_action_monte_carlo(env, policy) # 动作价值\n",
    "# v = (q * policy).sum(axis=-1) # 状态价值\n",
    "#\n",
    "def plot(data):\n",
    "    fig, axes = plt.subplots(1, 2, figsize=(9, 4))\n",
    "    titles = ['without ace', 'with ace']\n",
    "    have_aces = [0, 1]\n",
    "    extent = [12, 22, 1, 11]\n",
    "    for title, have_ace, axis in zip(titles, have_aces, axes):\n",
    "        dat = data[extent[0]:extent[1], extent[2]:extent[3], have_ace].T\n",
    "        print(dat)\n",
    "        axis.imshow(dat, cmap='gray',extent=extent, origin='lower')\n",
    "        axis.set_xlabel('player sum')\n",
    "        axis.set_ylabel('dealer showing')\n",
    "        axis.set_title(title)\n",
    "\n",
    "\n",
    "# plot(v)\n"
   ]
  },
  {
   "cell_type": "code",
   "execution_count": 4,
   "outputs": [],
   "source": [
    "# def monte_carlo_with_exploring_start(env, episode_num=500000):\n",
    "#     policy = np.zeros((22, 11, 2, 2))\n",
    "#     policy[:, :, :, 1] = 1.\n",
    "#     q = np.zeros_like(policy)\n",
    "#     c = np.zeros_like(policy)\n",
    "#     for _ in range(episode_num):\n",
    "#         # 这么做的原因是，希望所有的都能遍历到\n",
    "#         # 随机选择起始状态和起始动作\n",
    "#         state = (np.random.randint(12, 22),\n",
    "#                  np.random.randint(1, 11),\n",
    "#                  np.random.randint(2))\n",
    "#         action = np.random.randint(2)\n",
    "#         # 确定手上的牌\n",
    "#         env.reset()\n",
    "#         if state[2]: # 有A\n",
    "#             env.player = [1, state[0] - 11]\n",
    "#         else: # 没有A\n",
    "#             if state[0] == 21:\n",
    "#                 env.player = [10, 9, 2]\n",
    "#             else:\n",
    "#                 env.player = [10, state[0] - 10]\n",
    "#         env.dealer[0] = state[1]\n",
    "#         state_actions = []\n",
    "#         while True:\n",
    "#             state_actions.append((state, action))\n",
    "#             observation, reward, done, _ = env.step(action)\n",
    "#             if done:\n",
    "#                 break # 回合结束\n",
    "#             state = ob2state(observation)\n",
    "#             action = np.random.choice(env.action_space.n, p=policy[state])\n",
    "#         g = reward # 回报\n",
    "#         for state, action in state_actions:\n",
    "#             c[state][action] += 1.\n",
    "#             q[state][action] += (g - q[state][action]) / c[state][action]\n",
    "#             a = q[state].argmax()\n",
    "#             policy[state] = 0.\n",
    "#             policy[state][a] = 1.\n",
    "#     return policy, q\n",
    "#\n",
    "# policy, q = monte_carlo_with_exploring_start(env)\n",
    "# v = q.max(axis=-1)\n",
    "#\n",
    "# plot(policy.argmax(-1))\n",
    "# plot(v)\n",
    "#"
   ],
   "metadata": {
    "collapsed": false,
    "pycharm": {
     "name": "#%%\n"
    }
   }
  },
  {
   "cell_type": "code",
   "execution_count": 5,
   "outputs": [
    {
     "name": "stdout",
     "output_type": "stream",
     "text": [
      "[[1 1 1 1 1 0 0 0 0 0]\n",
      " [1 0 0 1 0 0 0 0 0 0]\n",
      " [0 0 0 0 0 0 0 0 0 0]\n",
      " [1 0 0 0 0 0 0 0 0 0]\n",
      " [0 0 0 0 0 0 0 0 0 0]\n",
      " [1 0 0 0 0 0 0 0 0 0]\n",
      " [1 1 1 1 1 0 0 0 0 0]\n",
      " [1 1 1 1 1 0 0 0 0 0]\n",
      " [1 1 1 1 0 0 0 0 0 0]\n",
      " [1 1 1 1 0 0 0 0 0 0]]\n",
      "[[1 1 1 1 1 1 0 0 0 0]\n",
      " [1 1 1 1 1 1 0 0 0 0]\n",
      " [1 1 1 1 1 1 0 0 0 0]\n",
      " [1 1 1 1 1 1 0 0 0 0]\n",
      " [1 1 1 1 1 1 0 0 0 0]\n",
      " [1 1 1 1 1 0 0 0 0 0]\n",
      " [1 1 1 1 1 1 0 0 0 0]\n",
      " [1 1 1 1 1 1 0 0 0 0]\n",
      " [1 1 1 1 1 1 1 0 0 0]\n",
      " [1 1 1 1 1 1 0 0 0 0]]\n",
      "[[-0.53510064 -0.58305329 -0.61498303 -0.64453802 -0.6674203  -0.63311615\n",
      "  -0.39559137 -0.10956175  0.13426926  0.64128912]\n",
      " [-0.29436003 -0.28241335 -0.28312817 -0.43208584 -0.29310793 -0.12453532\n",
      "   0.12429379  0.4029304   0.64068826  0.86131387]\n",
      " [-0.24658679 -0.26331889 -0.25934127 -0.25910064 -0.25230883 -0.08154373\n",
      "   0.15890125  0.42173913  0.63684697  0.89779326]\n",
      " [-0.21001088 -0.20521173 -0.23081038 -0.1962872  -0.19248826 -0.1044009\n",
      "   0.16181008  0.40748819  0.67322747  0.91040462]\n",
      " [-0.18800103 -0.17779705 -0.17145247 -0.14412025 -0.19520958 -0.02876254\n",
      "   0.18319204  0.46083133  0.67630727  0.90978399]\n",
      " [-0.19170984 -0.12903987 -0.16238869 -0.15105577 -0.15056818  0.00256657\n",
      "   0.30914614  0.504683    0.69821674  0.88878049]\n",
      " [-0.25166379 -0.331167   -0.34612106 -0.4100861  -0.44978982 -0.11087866\n",
      "   0.40039692  0.60005238  0.76281244  0.93488137]\n",
      " [-0.30602706 -0.37212064 -0.41524831 -0.43679223 -0.51436031 -0.38606221\n",
      "   0.10479265  0.58499318  0.782758    0.93291732]\n",
      " [-0.36780735 -0.43298969 -0.46649363 -0.48629962 -0.52565564 -0.43247664\n",
      "  -0.18384192  0.31253421  0.75161827  0.944     ]\n",
      " [-0.43776481 -0.49349112 -0.52477492 -0.54437911 -0.57618234 -0.48581581\n",
      "  -0.25206477 -0.01659353  0.43761141  0.88377823]]\n",
      "[[-3.06010929e-01 -3.89755011e-01 -4.20673077e-01 -4.00000000e-01\n",
      "  -4.34234234e-01 -4.31924883e-01 -4.03726708e-01 -1.34036145e-01\n",
      "   1.11898017e-01  6.44498778e-01]\n",
      " [-4.92957746e-02 -2.87081340e-02  4.15800416e-02 -7.52941176e-02\n",
      "  -3.18352060e-02 -5.17711172e-02  1.04928458e-01  4.23913043e-01\n",
      "   6.35262450e-01  8.80493827e-01]\n",
      " [ 1.03448276e-01  2.31481481e-03  7.56302521e-02  3.64963504e-02\n",
      "   1.60320641e-02  4.21940928e-02  1.28971963e-01  3.97608371e-01\n",
      "   6.70967742e-01  8.88505180e-01]\n",
      " [ 8.41121495e-02  1.33171913e-01  5.71428571e-03  2.18687873e-02\n",
      "   6.61896243e-02  1.43678161e-02  2.09183673e-01  5.09063444e-01\n",
      "   6.65714286e-01  8.96809571e-01]\n",
      " [ 1.39534884e-01  6.06060606e-02 -2.73218947e-17  9.73630832e-02\n",
      "   8.82352941e-02  1.11111111e-01  1.93290735e-01  4.45635528e-01\n",
      "   6.66666667e-01  8.91996143e-01]\n",
      " [ 1.07843137e-01  1.27906977e-01  8.40336134e-02  1.43968872e-01\n",
      "   7.37564322e-02 -4.83870968e-02  2.47244094e-01  4.49472097e-01\n",
      "   6.95778748e-01  9.06033630e-01]\n",
      " [ 2.31155779e-01  4.71910112e-02  1.28205128e-02 -9.94764398e-02\n",
      "  -2.31316726e-02 -1.34453782e-02  4.28571429e-01  5.59471366e-01\n",
      "   7.64621969e-01  9.35116394e-01]\n",
      " [ 1.84079602e-01  8.37563452e-02 -1.67064439e-02 -4.50236967e-02\n",
      "  -1.64328657e-01 -1.31749460e-01  1.35093168e-01  6.07648725e-01\n",
      "   8.01566580e-01  9.32701894e-01]\n",
      " [-2.76497696e-02 -9.04255319e-02 -9.81963928e-02 -1.56387665e-01\n",
      "  -2.37847222e-01 -1.52317881e-01 -1.12443778e-01  2.83356259e-01\n",
      "   7.56756757e-01  9.39781022e-01]\n",
      " [-1.66666667e-01 -2.41960991e-01 -2.71970879e-01 -2.77385990e-01\n",
      "  -2.69841270e-01 -2.63052209e-01 -2.30335097e-01 -3.25262017e-02\n",
      "   4.54125413e-01  8.84788151e-01]]\n"
     ]
    },
    {
     "data": {
      "text/plain": "<Figure size 648x288 with 2 Axes>",
      "image/png": "[encoded data removed]"
     },
     "metadata": {
      "needs_background": "light"
     },
     "output_type": "display_data"
    },
    {
     "data": {
      "text/plain": "<Figure size 648x288 with 2 Axes>",
      "image/png": "[encoded data removed]"
     },
     "metadata": {
      "needs_background": "light"
     },
     "output_type": "display_data"
    }
   ],
   "source": [
    "# 基于柔性策略的回合更新\n",
    "\n",
    "import matplotlib.pyplot as plt\n",
    "def monte_carlo_with_soft(env, episode_num=500000, epsilon=0.1):\n",
    "    policy = np.ones((22, 11, 2, 2)) * 0.5 # 柔性策略\n",
    "    q = np.zeros_like(policy)\n",
    "    c = np.zeros_like(policy)\n",
    "    for _ in range(episode_num):\n",
    "        # 玩一回合\n",
    "        state_actions = []\n",
    "        observation = env.reset()\n",
    "        while True:\n",
    "            state = ob2state(observation)\n",
    "            action = np.random.choice(env.action_space.n, p=policy[state])\n",
    "            state_actions.append((state, action))\n",
    "            observation, reward, done, _ = env.step(action)\n",
    "            if done:\n",
    "                break # 回合结束\n",
    "        g = reward # 回报\n",
    "        for state, action in state_actions:\n",
    "            c[state][action] += 1.\n",
    "            q[state][action] += (g - q[state][action]) / c[state][action]\n",
    "            # 更新策略为柔性策略\n",
    "            a = q[state].argmax()\n",
    "            policy[state] = epsilon / 2.\n",
    "            policy[state][a] += (1. - epsilon)\n",
    "    return policy, q\n",
    "\n",
    "policy, q = monte_carlo_with_soft(env)\n",
    "v = q.max(axis=-1)\n",
    "\n",
    "plot(policy.argmax(-1))\n",
    "plot(v)\n"
   ],
   "metadata": {
    "collapsed": false,
    "pycharm": {
     "name": "#%%\n"
    }
   }
  }
 ],
 "metadata": {
  "kernelspec": {
   "display_name": "Python 3",
   "language": "python",
   "name": "python3"
  },
  "language_info": {
   "codemirror_mode": {
    "name": "ipython",
    "version": 3
   },
   "file_extension": ".py",
   "mimetype": "text/x-python",
   "name": "python",
   "nbconvert_exporter": "python",
   "pygments_lexer": "ipython3",
   "version": "3.8.5"
  }
 },
 "nbformat": 4,
 "nbformat_minor": 1
}